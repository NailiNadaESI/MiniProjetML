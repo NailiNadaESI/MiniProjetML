{
 "cells": [
  {
   "cell_type": "markdown",
   "id": "f257a0bb-b078-4b02-8422-34cce14fe013",
   "metadata": {},
   "source": [
    "# Association Rules \n"
   ]
  },
  {
   "cell_type": "markdown",
   "id": "c34358b5-a75c-4ded-bd30-b4aa52e7bbcb",
   "metadata": {},
   "source": [
    "#### Import libraries "
   ]
  },
  {
   "cell_type": "code",
   "execution_count": 1,
   "id": "6fb45137-aa87-450d-8031-b4ea06a91592",
   "metadata": {},
   "outputs": [],
   "source": [
    "import pandas as pd \n",
    "import numpy as np "
   ]
  },
  {
   "cell_type": "markdown",
   "id": "9fc2b3c9-5073-442d-b789-f47f817d1bb2",
   "metadata": {},
   "source": [
    "### Read tha dataset\n"
   ]
  },
  {
   "cell_type": "code",
   "execution_count": 2,
   "id": "1eaf1f61-0e92-4ec5-b356-ddb80b0c747c",
   "metadata": {},
   "outputs": [
    {
     "data": {
      "text/plain": [
       "<bound method NDFrame.describe of                  0              1                   2                 3   \\\n",
       "0         Cobra Kai          Lupin          12 Monkeys          Sherlock   \n",
       "1              Lost      Jack Ryan           The Flash   Game of thrones   \n",
       "2     Sex Education      Dr. House             Kingdom  The Walking Dead   \n",
       "3             Ozark  Sex Education         Constantine          Preacher   \n",
       "4            Naruto            NaN                 NaN               NaN   \n",
       "...             ...            ...                 ...               ...   \n",
       "9685      One Piece  The Blacklist  Two and a half men             Lupin   \n",
       "9686      One Piece      Mr. Robot          Succession             Ozark   \n",
       "9687      Daredevil       Atypical               Heros               NaN   \n",
       "9688       Absentia   The Newsroom        The Alienist               NaN   \n",
       "9689       Atypical            NaN                 NaN               NaN   \n",
       "\n",
       "                  4                      5                    6       7   \\\n",
       "0                NaN                    NaN                  NaN     NaN   \n",
       "1     House of Cards             12 Monkeys              Vikings  Fringe   \n",
       "2                NaN                    NaN                  NaN     NaN   \n",
       "3            Vikings               The Tick                  NaN     NaN   \n",
       "4                NaN                    NaN                  NaN     NaN   \n",
       "...              ...                    ...                  ...     ...   \n",
       "9685            Dark  How I met your mother                  NaN     NaN   \n",
       "9686      12 Monkeys                Vikings  The Vampire Diaries     NaN   \n",
       "9687             NaN                    NaN                  NaN     NaN   \n",
       "9688             NaN                    NaN                  NaN     NaN   \n",
       "9689             NaN                    NaN                  NaN     NaN   \n",
       "\n",
       "                 8             9   ...   22   23   24   25   26   27   28  \\\n",
       "0               NaN           NaN  ...  NaN  NaN  NaN  NaN  NaN  NaN  NaN   \n",
       "1     The Mentalist  The Alienist  ...  NaN  NaN  NaN  NaN  NaN  NaN  NaN   \n",
       "2               NaN           NaN  ...  NaN  NaN  NaN  NaN  NaN  NaN  NaN   \n",
       "3               NaN           NaN  ...  NaN  NaN  NaN  NaN  NaN  NaN  NaN   \n",
       "4               NaN           NaN  ...  NaN  NaN  NaN  NaN  NaN  NaN  NaN   \n",
       "...             ...           ...  ...  ...  ...  ...  ...  ...  ...  ...   \n",
       "9685            NaN           NaN  ...  NaN  NaN  NaN  NaN  NaN  NaN  NaN   \n",
       "9686            NaN           NaN  ...  NaN  NaN  NaN  NaN  NaN  NaN  NaN   \n",
       "9687            NaN           NaN  ...  NaN  NaN  NaN  NaN  NaN  NaN  NaN   \n",
       "9688            NaN           NaN  ...  NaN  NaN  NaN  NaN  NaN  NaN  NaN   \n",
       "9689            NaN           NaN  ...  NaN  NaN  NaN  NaN  NaN  NaN  NaN   \n",
       "\n",
       "       29   30   31  \n",
       "0     NaN  NaN  NaN  \n",
       "1     NaN  NaN  NaN  \n",
       "2     NaN  NaN  NaN  \n",
       "3     NaN  NaN  NaN  \n",
       "4     NaN  NaN  NaN  \n",
       "...   ...  ...  ...  \n",
       "9685  NaN  NaN  NaN  \n",
       "9686  NaN  NaN  NaN  \n",
       "9687  NaN  NaN  NaN  \n",
       "9688  NaN  NaN  NaN  \n",
       "9689  NaN  NaN  NaN  \n",
       "\n",
       "[9690 rows x 32 columns]>"
      ]
     },
     "execution_count": 2,
     "metadata": {},
     "output_type": "execute_result"
    }
   ],
   "source": [
    "df = pd.read_csv(\"./Data/TV shows.csv\", header = None )\n",
    "df.describe"
   ]
  },
  {
   "cell_type": "code",
   "execution_count": 3,
   "id": "3d3052d8-fb0d-4191-aca4-5710917ba2cb",
   "metadata": {},
   "outputs": [
    {
     "data": {
      "text/plain": [
       "0        0\n",
       "1     2133\n",
       "2     3743\n",
       "3     5023\n",
       "4     6012\n",
       "5     6853\n",
       "6     7493\n",
       "7     8026\n",
       "8     8459\n",
       "9     8803\n",
       "10    9046\n",
       "11    9226\n",
       "12    9342\n",
       "13    9418\n",
       "14    9494\n",
       "15    9549\n",
       "16    9595\n",
       "17    9624\n",
       "18    9638\n",
       "19    9652\n",
       "20    9661\n",
       "21    9672\n",
       "22    9676\n",
       "23    9682\n",
       "24    9683\n",
       "25    9683\n",
       "26    9684\n",
       "27    9685\n",
       "28    9686\n",
       "29    9689\n",
       "30    9689\n",
       "31    9689\n",
       "dtype: int64"
      ]
     },
     "execution_count": 3,
     "metadata": {},
     "output_type": "execute_result"
    }
   ],
   "source": [
    "df.isna().sum()"
   ]
  },
  {
   "cell_type": "markdown",
   "id": "4ae0d2e6-778c-461c-ae06-d95e25bcacd8",
   "metadata": {},
   "source": [
    "#### Handeling missing values "
   ]
  },
  {
   "cell_type": "code",
   "execution_count": 4,
   "id": "fe8e74c9-fca9-44d9-9c72-29b5180f0aa9",
   "metadata": {},
   "outputs": [
    {
     "data": {
      "text/plain": [
       "0       0\n",
       "1    2133\n",
       "2    3743\n",
       "3    5023\n",
       "4    6012\n",
       "5    6853\n",
       "dtype: int64"
      ]
     },
     "execution_count": 4,
     "metadata": {},
     "output_type": "execute_result"
    }
   ],
   "source": [
    "for col in df.columns:\n",
    "    if (df[col].isna().sum() > (9690/1.4)):\n",
    "        df = df.drop(col, axis=1)\n",
    "df.isna().sum()"
   ]
  },
  {
   "cell_type": "code",
   "execution_count": 5,
   "id": "f4c1537b-1ff5-4de7-8601-f28c72294b84",
   "metadata": {},
   "outputs": [
    {
     "data": {
      "text/html": [
       "<div>\n",
       "<style scoped>\n",
       "    .dataframe tbody tr th:only-of-type {\n",
       "        vertical-align: middle;\n",
       "    }\n",
       "\n",
       "    .dataframe tbody tr th {\n",
       "        vertical-align: top;\n",
       "    }\n",
       "\n",
       "    .dataframe thead th {\n",
       "        text-align: right;\n",
       "    }\n",
       "</style>\n",
       "<table border=\"1\" class=\"dataframe\">\n",
       "  <thead>\n",
       "    <tr style=\"text-align: right;\">\n",
       "      <th></th>\n",
       "      <th>0</th>\n",
       "      <th>1</th>\n",
       "      <th>2</th>\n",
       "      <th>3</th>\n",
       "      <th>4</th>\n",
       "      <th>5</th>\n",
       "    </tr>\n",
       "  </thead>\n",
       "  <tbody>\n",
       "    <tr>\n",
       "      <th>0</th>\n",
       "      <td>Cobra Kai</td>\n",
       "      <td>Lupin</td>\n",
       "      <td>12 Monkeys</td>\n",
       "      <td>Sherlock</td>\n",
       "      <td>NaN</td>\n",
       "      <td>NaN</td>\n",
       "    </tr>\n",
       "    <tr>\n",
       "      <th>1</th>\n",
       "      <td>Lost</td>\n",
       "      <td>Jack Ryan</td>\n",
       "      <td>The Flash</td>\n",
       "      <td>Game of thrones</td>\n",
       "      <td>House of Cards</td>\n",
       "      <td>12 Monkeys</td>\n",
       "    </tr>\n",
       "    <tr>\n",
       "      <th>2</th>\n",
       "      <td>Sex Education</td>\n",
       "      <td>Dr. House</td>\n",
       "      <td>Kingdom</td>\n",
       "      <td>The Walking Dead</td>\n",
       "      <td>NaN</td>\n",
       "      <td>NaN</td>\n",
       "    </tr>\n",
       "    <tr>\n",
       "      <th>3</th>\n",
       "      <td>Ozark</td>\n",
       "      <td>Sex Education</td>\n",
       "      <td>Constantine</td>\n",
       "      <td>Preacher</td>\n",
       "      <td>Vikings</td>\n",
       "      <td>The Tick</td>\n",
       "    </tr>\n",
       "    <tr>\n",
       "      <th>4</th>\n",
       "      <td>Naruto</td>\n",
       "      <td>NaN</td>\n",
       "      <td>NaN</td>\n",
       "      <td>NaN</td>\n",
       "      <td>NaN</td>\n",
       "      <td>NaN</td>\n",
       "    </tr>\n",
       "    <tr>\n",
       "      <th>...</th>\n",
       "      <td>...</td>\n",
       "      <td>...</td>\n",
       "      <td>...</td>\n",
       "      <td>...</td>\n",
       "      <td>...</td>\n",
       "      <td>...</td>\n",
       "    </tr>\n",
       "    <tr>\n",
       "      <th>9685</th>\n",
       "      <td>One Piece</td>\n",
       "      <td>The Blacklist</td>\n",
       "      <td>Two and a half men</td>\n",
       "      <td>Lupin</td>\n",
       "      <td>Dark</td>\n",
       "      <td>How I met your mother</td>\n",
       "    </tr>\n",
       "    <tr>\n",
       "      <th>9686</th>\n",
       "      <td>One Piece</td>\n",
       "      <td>Mr. Robot</td>\n",
       "      <td>Succession</td>\n",
       "      <td>Ozark</td>\n",
       "      <td>12 Monkeys</td>\n",
       "      <td>Vikings</td>\n",
       "    </tr>\n",
       "    <tr>\n",
       "      <th>9687</th>\n",
       "      <td>Daredevil</td>\n",
       "      <td>Atypical</td>\n",
       "      <td>Heros</td>\n",
       "      <td>NaN</td>\n",
       "      <td>NaN</td>\n",
       "      <td>NaN</td>\n",
       "    </tr>\n",
       "    <tr>\n",
       "      <th>9688</th>\n",
       "      <td>Absentia</td>\n",
       "      <td>The Newsroom</td>\n",
       "      <td>The Alienist</td>\n",
       "      <td>NaN</td>\n",
       "      <td>NaN</td>\n",
       "      <td>NaN</td>\n",
       "    </tr>\n",
       "    <tr>\n",
       "      <th>9689</th>\n",
       "      <td>Atypical</td>\n",
       "      <td>NaN</td>\n",
       "      <td>NaN</td>\n",
       "      <td>NaN</td>\n",
       "      <td>NaN</td>\n",
       "      <td>NaN</td>\n",
       "    </tr>\n",
       "  </tbody>\n",
       "</table>\n",
       "<p>9690 rows × 6 columns</p>\n",
       "</div>"
      ],
      "text/plain": [
       "                  0              1                   2                 3  \\\n",
       "0         Cobra Kai          Lupin          12 Monkeys          Sherlock   \n",
       "1              Lost      Jack Ryan           The Flash   Game of thrones   \n",
       "2     Sex Education      Dr. House             Kingdom  The Walking Dead   \n",
       "3             Ozark  Sex Education         Constantine          Preacher   \n",
       "4            Naruto            NaN                 NaN               NaN   \n",
       "...             ...            ...                 ...               ...   \n",
       "9685      One Piece  The Blacklist  Two and a half men             Lupin   \n",
       "9686      One Piece      Mr. Robot          Succession             Ozark   \n",
       "9687      Daredevil       Atypical               Heros               NaN   \n",
       "9688       Absentia   The Newsroom        The Alienist               NaN   \n",
       "9689       Atypical            NaN                 NaN               NaN   \n",
       "\n",
       "                   4                      5  \n",
       "0                NaN                    NaN  \n",
       "1     House of Cards             12 Monkeys  \n",
       "2                NaN                    NaN  \n",
       "3            Vikings               The Tick  \n",
       "4                NaN                    NaN  \n",
       "...              ...                    ...  \n",
       "9685            Dark  How I met your mother  \n",
       "9686      12 Monkeys                Vikings  \n",
       "9687             NaN                    NaN  \n",
       "9688             NaN                    NaN  \n",
       "9689             NaN                    NaN  \n",
       "\n",
       "[9690 rows x 6 columns]"
      ]
     },
     "execution_count": 5,
     "metadata": {},
     "output_type": "execute_result"
    }
   ],
   "source": [
    "df"
   ]
  },
  {
   "cell_type": "code",
   "execution_count": null,
   "id": "bbb4dba5-3ce2-4da3-9136-76992f5c34e5",
   "metadata": {},
   "outputs": [],
   "source": []
  }
 ],
 "metadata": {
  "kernelspec": {
   "display_name": "Python 3 (ipykernel)",
   "language": "python",
   "name": "python3"
  },
  "language_info": {
   "codemirror_mode": {
    "name": "ipython",
    "version": 3
   },
   "file_extension": ".py",
   "mimetype": "text/x-python",
   "name": "python",
   "nbconvert_exporter": "python",
   "pygments_lexer": "ipython3",
   "version": "3.12.0"
  }
 },
 "nbformat": 4,
 "nbformat_minor": 5
}
